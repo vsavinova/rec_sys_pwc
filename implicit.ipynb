{
 "cells": [
  {
   "cell_type": "code",
   "execution_count": 1,
   "metadata": {},
   "outputs": [],
   "source": [
    "import implicit\n",
    "import pandas as pd\n",
    "import numpy as np\n",
    "from collections import Counter\n",
    "from scipy import sparse\n",
    "from scipy.sparse import csr_matrix\n",
    "from implicit.evaluation import precision_at_k, train_test_split, mean_average_precision_at_k\n",
    "from implicit.als import AlternatingLeastSquares"
   ]
  },
  {
   "cell_type": "code",
   "execution_count": 4,
   "metadata": {},
   "outputs": [],
   "source": [
    "orders = pd.read_csv('data/orders.csv', sep=';')\n",
    "products = pd.read_csv('data/products.csv', sep=';')\n",
    "users = pd.read_csv('data/users.csv', sep=';')"
   ]
  },
  {
   "cell_type": "code",
   "execution_count": 6,
   "metadata": {
    "collapsed": true
   },
   "outputs": [],
   "source": [
    "last_orders_1 = orders.groupby('user_id').agg({'order_id':'last'}).reset_index()\n",
    "train_orders = orders[~orders.order_id.isin(list(last_orders_1['order_id']))]\n",
    "last_orders_2 = train_orders.groupby('user_id').agg({'order_id':'last'}).reset_index()\n",
    "\n",
    "last_orders = pd.concat([last_orders_1, last_orders_2])\n",
    "\n",
    "test_orders = orders[orders.order_id.isin(list(last_orders['order_id']))]\n",
    "train_orders = orders[~orders.order_id.isin(list(last_orders['order_id']))]"
   ]
  },
  {
   "cell_type": "code",
   "execution_count": 7,
   "metadata": {},
   "outputs": [],
   "source": [
    "user_id = 11\n",
    "test_orders[test_orders.user_id == user_id].drop(columns=['Unnamed: 0']).to_csv(\"test_user_id_11.csv\", sep=';', index=False)"
   ]
  },
  {
   "cell_type": "code",
   "execution_count": 8,
   "metadata": {},
   "outputs": [
    {
     "data": {
      "text/html": [
       "<div>\n",
       "<style scoped>\n",
       "    .dataframe tbody tr th:only-of-type {\n",
       "        vertical-align: middle;\n",
       "    }\n",
       "\n",
       "    .dataframe tbody tr th {\n",
       "        vertical-align: top;\n",
       "    }\n",
       "\n",
       "    .dataframe thead th {\n",
       "        text-align: right;\n",
       "    }\n",
       "</style>\n",
       "<table border=\"1\" class=\"dataframe\">\n",
       "  <thead>\n",
       "    <tr style=\"text-align: right;\">\n",
       "      <th></th>\n",
       "      <th>order_id</th>\n",
       "      <th>product_id</th>\n",
       "      <th>user_id</th>\n",
       "      <th>day</th>\n",
       "    </tr>\n",
       "  </thead>\n",
       "  <tbody>\n",
       "    <tr>\n",
       "      <th>29967041</th>\n",
       "      <td>3160850</td>\n",
       "      <td>39190</td>\n",
       "      <td>3</td>\n",
       "      <td>28</td>\n",
       "    </tr>\n",
       "    <tr>\n",
       "      <th>29967042</th>\n",
       "      <td>3160850</td>\n",
       "      <td>47766</td>\n",
       "      <td>3</td>\n",
       "      <td>28</td>\n",
       "    </tr>\n",
       "    <tr>\n",
       "      <th>29967043</th>\n",
       "      <td>3160850</td>\n",
       "      <td>16797</td>\n",
       "      <td>3</td>\n",
       "      <td>28</td>\n",
       "    </tr>\n",
       "    <tr>\n",
       "      <th>29967044</th>\n",
       "      <td>3160850</td>\n",
       "      <td>43961</td>\n",
       "      <td>3</td>\n",
       "      <td>28</td>\n",
       "    </tr>\n",
       "    <tr>\n",
       "      <th>29967045</th>\n",
       "      <td>3160850</td>\n",
       "      <td>48523</td>\n",
       "      <td>3</td>\n",
       "      <td>28</td>\n",
       "    </tr>\n",
       "    <tr>\n",
       "      <th>30582483</th>\n",
       "      <td>3225766</td>\n",
       "      <td>39190</td>\n",
       "      <td>3</td>\n",
       "      <td>29</td>\n",
       "    </tr>\n",
       "    <tr>\n",
       "      <th>30582484</th>\n",
       "      <td>3225766</td>\n",
       "      <td>22035</td>\n",
       "      <td>3</td>\n",
       "      <td>29</td>\n",
       "    </tr>\n",
       "    <tr>\n",
       "      <th>30582485</th>\n",
       "      <td>3225766</td>\n",
       "      <td>43961</td>\n",
       "      <td>3</td>\n",
       "      <td>29</td>\n",
       "    </tr>\n",
       "    <tr>\n",
       "      <th>30582486</th>\n",
       "      <td>3225766</td>\n",
       "      <td>18599</td>\n",
       "      <td>3</td>\n",
       "      <td>29</td>\n",
       "    </tr>\n",
       "    <tr>\n",
       "      <th>30582487</th>\n",
       "      <td>3225766</td>\n",
       "      <td>21903</td>\n",
       "      <td>3</td>\n",
       "      <td>29</td>\n",
       "    </tr>\n",
       "    <tr>\n",
       "      <th>30582488</th>\n",
       "      <td>3225766</td>\n",
       "      <td>47766</td>\n",
       "      <td>3</td>\n",
       "      <td>29</td>\n",
       "    </tr>\n",
       "    <tr>\n",
       "      <th>30582489</th>\n",
       "      <td>3225766</td>\n",
       "      <td>42557</td>\n",
       "      <td>3</td>\n",
       "      <td>29</td>\n",
       "    </tr>\n",
       "    <tr>\n",
       "      <th>30582490</th>\n",
       "      <td>3225766</td>\n",
       "      <td>48523</td>\n",
       "      <td>3</td>\n",
       "      <td>29</td>\n",
       "    </tr>\n",
       "  </tbody>\n",
       "</table>\n",
       "</div>"
      ],
      "text/plain": [
       "          order_id  product_id  user_id  day\n",
       "29967041   3160850       39190        3   28\n",
       "29967042   3160850       47766        3   28\n",
       "29967043   3160850       16797        3   28\n",
       "29967044   3160850       43961        3   28\n",
       "29967045   3160850       48523        3   28\n",
       "30582483   3225766       39190        3   29\n",
       "30582484   3225766       22035        3   29\n",
       "30582485   3225766       43961        3   29\n",
       "30582486   3225766       18599        3   29\n",
       "30582487   3225766       21903        3   29\n",
       "30582488   3225766       47766        3   29\n",
       "30582489   3225766       42557        3   29\n",
       "30582490   3225766       48523        3   29"
      ]
     },
     "execution_count": 8,
     "metadata": {},
     "output_type": "execute_result"
    }
   ],
   "source": [
    "test_orders[test_orders.user_id == 3].drop(columns=['Unnamed: 0'])"
   ]
  },
  {
   "cell_type": "code",
   "execution_count": 9,
   "metadata": {},
   "outputs": [
    {
     "name": "stderr",
     "output_type": "stream",
     "text": [
      "/Users/lizakorneeva/anaconda3/lib/python3.5/site-packages/ipykernel/__main__.py:1: SettingWithCopyWarning: \n",
      "A value is trying to be set on a copy of a slice from a DataFrame.\n",
      "Try using .loc[row_indexer,col_indexer] = value instead\n",
      "\n",
      "See the caveats in the documentation: http://pandas.pydata.org/pandas-docs/stable/indexing.html#indexing-view-versus-copy\n",
      "  if __name__ == '__main__':\n"
     ]
    }
   ],
   "source": [
    "train_orders['cnt'] = (np.log2(train_orders['day']+1) + 1)/ (np.log2(31) + 1)"
   ]
  },
  {
   "cell_type": "code",
   "execution_count": 10,
   "metadata": {},
   "outputs": [],
   "source": [
    "data_test = np.array([1]*len(test_orders))\n",
    "row_ind_test = np.array(test_orders['user_id'])\n",
    "col_ind_test = np.array(test_orders['product_id'])"
   ]
  },
  {
   "cell_type": "code",
   "execution_count": 11,
   "metadata": {
    "collapsed": true
   },
   "outputs": [],
   "source": [
    "item_user_data_test = csr_matrix((data_test, (row_ind_test, col_ind_test)), \\\n",
    "                                 shape=(len(users)+1, len(products)+1)).T.tocsr()"
   ]
  },
  {
   "cell_type": "code",
   "execution_count": 12,
   "metadata": {
    "collapsed": true
   },
   "outputs": [],
   "source": [
    "data_train = np.array(train_orders['cnt'])\n",
    "row_ind_train = np.array(train_orders['user_id'])\n",
    "col_ind_train = np.array(train_orders['product_id'])"
   ]
  },
  {
   "cell_type": "code",
   "execution_count": 13,
   "metadata": {},
   "outputs": [],
   "source": [
    "item_user_data_train = csr_matrix((data_train, (row_ind_train, col_ind_train)), \\\n",
    "                                 shape=(len(users)+1, len(products)+1)).T.tocsr()"
   ]
  },
  {
   "cell_type": "code",
   "execution_count": 14,
   "metadata": {},
   "outputs": [
    {
     "name": "stderr",
     "output_type": "stream",
     "text": [
      "100%|██████████| 15.0/15 [02:57<00:00, 11.01s/it, loss=0.0013]\n"
     ]
    }
   ],
   "source": [
    "model = AlternatingLeastSquares(factors=100, iterations=15, calculate_training_loss=True)\n",
    "model.fit(item_user_data_train)"
   ]
  },
  {
   "cell_type": "code",
   "execution_count": 27,
   "metadata": {},
   "outputs": [
    {
     "name": "stdout",
     "output_type": "stream",
     "text": [
      "Lasting Color Shampoo 0.0417644\n",
      "Lasting Color Conditioner 0.041692156\n",
      "Lemongrass Pure Essential Oil 0.04167495\n",
      "Grapefruit & Green Tea Dishwashing Liquid 0.04167036\n",
      "Lactase Enzyme 0.04166927\n",
      "Mediterranean Fig Hand Wash 0.041667435\n",
      "Superfood+ Turmeric Tamari Almonds 0.041666467\n",
      "Ecopouf Dual Cleansing Pad 0.041665778\n",
      "Organic White Balsamic Condiment 0.04166556\n",
      "Res-Q Ointment 0.0416653\n"
     ]
    }
   ],
   "source": [
    "for idx, score in model.similar_items(55):\n",
    "    print(products[products.product_id == idx]['product_name'].values[0], score)"
   ]
  },
  {
   "cell_type": "code",
   "execution_count": null,
   "metadata": {
    "collapsed": true
   },
   "outputs": [],
   "source": [
    "import pickle"
   ]
  },
  {
   "cell_type": "code",
   "execution_count": 76,
   "metadata": {},
   "outputs": [],
   "source": [
    "pickle.dump(model, open('model.pkl', 'wb'))"
   ]
  },
  {
   "cell_type": "code",
   "execution_count": 149,
   "metadata": {
    "collapsed": true
   },
   "outputs": [],
   "source": [
    "user_items_train = item_user_data_train.T.tocsr()"
   ]
  },
  {
   "cell_type": "code",
   "execution_count": 245,
   "metadata": {
    "collapsed": true
   },
   "outputs": [],
   "source": [
    "userid = 21"
   ]
  },
  {
   "cell_type": "code",
   "execution_count": 247,
   "metadata": {},
   "outputs": [],
   "source": [
    "recommendations = model.recommend(userid, user_items_train, N=10)"
   ]
  },
  {
   "cell_type": "code",
   "execution_count": 248,
   "metadata": {},
   "outputs": [
    {
     "data": {
      "text/plain": [
       "[(21709, 0.6420796),\n",
       " (33198, 0.62010527),\n",
       " (49235, 0.46374303),\n",
       " (30776, 0.43378443),\n",
       " (5785, 0.43195465),\n",
       " (20119, 0.39857566),\n",
       " (26620, 0.37768528),\n",
       " (47141, 0.3681677),\n",
       " (5876, 0.3483123),\n",
       " (1940, 0.33878064)]"
      ]
     },
     "execution_count": 248,
     "metadata": {},
     "output_type": "execute_result"
    }
   ],
   "source": [
    "recommendations[-20:]"
   ]
  },
  {
   "cell_type": "code",
   "execution_count": 249,
   "metadata": {},
   "outputs": [
    {
     "name": "stdout",
     "output_type": "stream",
     "text": [
      "Sparkling Lemon Water\n",
      "Sparkling Natural Mineral Water\n",
      "Organic Half & Half\n",
      "Organic Raw Kombucha Gingerade\n",
      "Organic Reduced Fat 2% Milk\n",
      "Sparkling Water Berry\n",
      "Peach Pear Flavored Sparkling Water\n",
      "Cola\n",
      "Organic Lemon\n",
      "Organic 2% Reduced Fat Milk\n"
     ]
    }
   ],
   "source": [
    "for idx, _ in recommendations:\n",
    "    print(products.loc[products.product_id == idx, 'product_name'].values[0])"
   ]
  },
  {
   "cell_type": "code",
   "execution_count": 250,
   "metadata": {},
   "outputs": [
    {
     "name": "stdout",
     "output_type": "stream",
     "text": [
      "Morning Fog Chardonnay\n",
      "Chardonnay\n",
      "Pinot Noir\n",
      "Clara\n",
      "Pepperidge Farm® Goldfish Xtra Cheddar Baked Snack Crackers\n",
      "White Cheddar Baked Snack Crackers\n",
      "Classic Hummus with Rold Gold Petzels Snack\n",
      "Boomchickapop Sea Salt Popcorn\n",
      "Easy Mac Original Flavor Macaroni & Cheese Dinner\n",
      "Total 2% All Natural Greek Strained Yogurt with Honey\n",
      "Vanilla Skyr Nonfat Yogurt\n",
      "Icelandic Style Skyr Blueberry Non-fat Yogurt\n",
      "Non Fat Acai & Mixed Berries Yogurt\n",
      "Natural Almonds 100 Calorie Packs\n",
      "Sugarfree Energy Drink\n",
      "Organic Fuji Apple\n",
      "Original Semisoft Cheese\n",
      "Organic Half & Half\n"
     ]
    }
   ],
   "source": [
    "for idx, row in test_orders[(test_orders.user_id == userid)].iterrows():\n",
    "    print(products.loc[products.product_id == row['product_id'], 'product_name'].values[0])"
   ]
  },
  {
   "cell_type": "code",
   "execution_count": 89,
   "metadata": {},
   "outputs": [
    {
     "data": {
      "text/html": [
       "<div>\n",
       "<style scoped>\n",
       "    .dataframe tbody tr th:only-of-type {\n",
       "        vertical-align: middle;\n",
       "    }\n",
       "\n",
       "    .dataframe tbody tr th {\n",
       "        vertical-align: top;\n",
       "    }\n",
       "\n",
       "    .dataframe thead th {\n",
       "        text-align: right;\n",
       "    }\n",
       "</style>\n",
       "<table border=\"1\" class=\"dataframe\">\n",
       "  <thead>\n",
       "    <tr style=\"text-align: right;\">\n",
       "      <th></th>\n",
       "      <th>Unnamed: 0</th>\n",
       "      <th>order_id</th>\n",
       "      <th>product_id</th>\n",
       "      <th>user_id</th>\n",
       "      <th>day</th>\n",
       "    </tr>\n",
       "  </thead>\n",
       "  <tbody>\n",
       "    <tr>\n",
       "      <th>29474805</th>\n",
       "      <td>29474805</td>\n",
       "      <td>3108588</td>\n",
       "      <td>12427</td>\n",
       "      <td>1</td>\n",
       "      <td>28</td>\n",
       "    </tr>\n",
       "    <tr>\n",
       "      <th>29474806</th>\n",
       "      <td>29474806</td>\n",
       "      <td>3108588</td>\n",
       "      <td>196</td>\n",
       "      <td>1</td>\n",
       "      <td>28</td>\n",
       "    </tr>\n",
       "    <tr>\n",
       "      <th>29474807</th>\n",
       "      <td>29474807</td>\n",
       "      <td>3108588</td>\n",
       "      <td>10258</td>\n",
       "      <td>1</td>\n",
       "      <td>28</td>\n",
       "    </tr>\n",
       "    <tr>\n",
       "      <th>29474808</th>\n",
       "      <td>29474808</td>\n",
       "      <td>3108588</td>\n",
       "      <td>25133</td>\n",
       "      <td>1</td>\n",
       "      <td>28</td>\n",
       "    </tr>\n",
       "    <tr>\n",
       "      <th>29474809</th>\n",
       "      <td>29474809</td>\n",
       "      <td>3108588</td>\n",
       "      <td>46149</td>\n",
       "      <td>1</td>\n",
       "      <td>28</td>\n",
       "    </tr>\n",
       "    <tr>\n",
       "      <th>29474810</th>\n",
       "      <td>29474810</td>\n",
       "      <td>3108588</td>\n",
       "      <td>49235</td>\n",
       "      <td>1</td>\n",
       "      <td>28</td>\n",
       "    </tr>\n",
       "    <tr>\n",
       "      <th>31927070</th>\n",
       "      <td>31927070</td>\n",
       "      <td>3367565</td>\n",
       "      <td>196</td>\n",
       "      <td>1</td>\n",
       "      <td>30</td>\n",
       "    </tr>\n",
       "    <tr>\n",
       "      <th>31927071</th>\n",
       "      <td>31927071</td>\n",
       "      <td>3367565</td>\n",
       "      <td>12427</td>\n",
       "      <td>1</td>\n",
       "      <td>30</td>\n",
       "    </tr>\n",
       "    <tr>\n",
       "      <th>31927072</th>\n",
       "      <td>31927072</td>\n",
       "      <td>3367565</td>\n",
       "      <td>10258</td>\n",
       "      <td>1</td>\n",
       "      <td>30</td>\n",
       "    </tr>\n",
       "    <tr>\n",
       "      <th>31927073</th>\n",
       "      <td>31927073</td>\n",
       "      <td>3367565</td>\n",
       "      <td>25133</td>\n",
       "      <td>1</td>\n",
       "      <td>30</td>\n",
       "    </tr>\n",
       "  </tbody>\n",
       "</table>\n",
       "</div>"
      ],
      "text/plain": [
       "          Unnamed: 0  order_id  product_id  user_id  day\n",
       "29474805    29474805   3108588       12427        1   28\n",
       "29474806    29474806   3108588         196        1   28\n",
       "29474807    29474807   3108588       10258        1   28\n",
       "29474808    29474808   3108588       25133        1   28\n",
       "29474809    29474809   3108588       46149        1   28\n",
       "29474810    29474810   3108588       49235        1   28\n",
       "31927070    31927070   3367565         196        1   30\n",
       "31927071    31927071   3367565       12427        1   30\n",
       "31927072    31927072   3367565       10258        1   30\n",
       "31927073    31927073   3367565       25133        1   30"
      ]
     },
     "execution_count": 89,
     "metadata": {},
     "output_type": "execute_result"
    }
   ],
   "source": [
    "test_orders[test_orders.user_id == userid]"
   ]
  },
  {
   "cell_type": "markdown",
   "metadata": {
    "collapsed": true
   },
   "source": [
    "## Метрики"
   ]
  },
  {
   "cell_type": "code",
   "execution_count": null,
   "metadata": {
    "collapsed": true
   },
   "outputs": [],
   "source": [
    "import seaborn as sns\n",
    "import matplotlib.pyplot as plt"
   ]
  },
  {
   "cell_type": "code",
   "execution_count": null,
   "metadata": {
    "collapsed": true
   },
   "outputs": [],
   "source": [
    "metrics_df = pd.DataFrame(columns=['factors', 'iterations', 'regularization', 'type', 'precision', 'map'])"
   ]
  },
  {
   "cell_type": "code",
   "execution_count": null,
   "metadata": {
    "collapsed": true
   },
   "outputs": [],
   "source": [
    "factors=[20, 30, 50, 100, 150] \n",
    "iterations=[10, 15, 20] \n",
    "regularization=[0.01, 0.05, 0.1]\n",
    "for f in factors:\n",
    "    for i in iterations:\n",
    "        for r in regularization:\n",
    "            model = AlternatingLeastSquares(factors=f, iterations=i, regularization=r, calculate_training_loss=True)\n",
    "            model.fit(item_user_data_train)\n",
    "            p = precision_at_k(model, item_user_data_train.T.tocsr(), item_user_data_test.T.tocsr(), K=10, num_threads=4)\n",
    "            map_k = mean_average_precision_at_k(model, item_user_data_train.T.tocsr(), item_user_data_test.T.tocsr(), K=10, num_threads=4)\n",
    "            print 'Factors: ' + str(f) + ' iters: ' + str(i) + ' regul: ' + str(r) + \\\n",
    "                ' Precision : ' + str(p), ' MAP: ' + str(map_k)\n",
    "            type_label = 'f' + str(f) + '_iter' + str(i) + '_reg' + str(r)\n",
    "            metrics_df = metrics_df.append({'factors': f, 'iterations': i, 'regularization': r, \\\n",
    "                                            'type': type_label, 'precision': p, 'map': map_k}, ignore_index=True)"
   ]
  },
  {
   "cell_type": "code",
   "execution_count": null,
   "metadata": {
    "collapsed": true
   },
   "outputs": [],
   "source": [
    "sns.set(rc = {'figure.figsize':(20,7)})\n",
    "ax = sns.lineplot(x = 'type', y = 'precision', data=metrics_df_cp, markers=True)\n",
    "plt.xticks(metrics_df_cp['type'], metrics_df_cp['type'], rotation='vertical')\n",
    "plt.show()"
   ]
  },
  {
   "cell_type": "code",
   "execution_count": null,
   "metadata": {
    "collapsed": true
   },
   "outputs": [],
   "source": [
    "sns.set(rc = {'figure.figsize':(20,8.27)})\n",
    "ax = sns.lineplot(x = 'type', y = 'map', data=metrics_df_cp, markers=True)\n",
    "plt.xticks(metrics_df_cp['type'], metrics_df_cp['type'], rotation='vertical')\n",
    "plt.show()"
   ]
  },
  {
   "cell_type": "code",
   "execution_count": null,
   "metadata": {
    "collapsed": true
   },
   "outputs": [],
   "source": []
  }
 ],
 "metadata": {
  "anaconda-cloud": {},
  "kernelspec": {
   "display_name": "Python 2",
   "language": "python",
   "name": "python2"
  },
  "language_info": {
   "codemirror_mode": {
    "name": "ipython",
    "version": 2
   },
   "file_extension": ".py",
   "mimetype": "text/x-python",
   "name": "python",
   "nbconvert_exporter": "python",
   "pygments_lexer": "ipython2",
   "version": "2.7.15"
  }
 },
 "nbformat": 4,
 "nbformat_minor": 1
}
